{
 "cells": [
  {
   "cell_type": "code",
   "execution_count": 1,
   "metadata": {
    "collapsed": true
   },
   "outputs": [],
   "source": [
    "%load_ext autoreload\n",
    "%autoreload 2"
   ]
  },
  {
   "cell_type": "code",
   "execution_count": 2,
   "metadata": {
    "collapsed": true
   },
   "outputs": [],
   "source": [
    "import util"
   ]
  },
  {
   "cell_type": "code",
   "execution_count": 3,
   "metadata": {
    "collapsed": true
   },
   "outputs": [],
   "source": [
    "import torch\n",
    "import torch.nn as nn\n",
    "from torch.autograd import Variable"
   ]
  },
  {
   "cell_type": "code",
   "execution_count": 4,
   "metadata": {
    "collapsed": true
   },
   "outputs": [],
   "source": [
    "a = torch.rand(2, 3)"
   ]
  },
  {
   "cell_type": "code",
   "execution_count": 5,
   "metadata": {},
   "outputs": [
    {
     "data": {
      "text/plain": [
       "\n",
       " 26.0013\n",
       "  9.9136\n",
       "[torch.FloatTensor of size 2x1]"
      ]
     },
     "execution_count": 5,
     "metadata": {},
     "output_type": "execute_result"
    }
   ],
   "source": [
    "util.metric_tensor(a)"
   ]
  },
  {
   "cell_type": "code",
   "execution_count": 6,
   "metadata": {},
   "outputs": [
    {
     "data": {
      "text/plain": [
       "\n",
       " 0.6446  0.4354  0.0521\n",
       " 0.8469  0.0513  0.9567\n",
       "[torch.FloatTensor of size 2x3]"
      ]
     },
     "execution_count": 6,
     "metadata": {},
     "output_type": "execute_result"
    }
   ],
   "source": [
    "a"
   ]
  },
  {
   "cell_type": "code",
   "execution_count": 7,
   "metadata": {},
   "outputs": [
    {
     "data": {
      "text/plain": [
       "\n",
       " 0.8268  0.5584  0.0668\n",
       " 0.6623  0.0401  0.7482\n",
       "[torch.FloatTensor of size 2x3]"
      ]
     },
     "execution_count": 7,
     "metadata": {},
     "output_type": "execute_result"
    }
   ],
   "source": [
    "util.proj(a)"
   ]
  },
  {
   "cell_type": "code",
   "execution_count": 9,
   "metadata": {},
   "outputs": [
    {
     "data": {
      "text/plain": [
       "\n",
       " 2.5506  2.1507     nan\n",
       " 2.8261     nan  2.9487\n",
       "[torch.FloatTensor of size 2x3]"
      ]
     },
     "execution_count": 9,
     "metadata": {},
     "output_type": "execute_result"
    }
   ],
   "source": [
    "util.arcosh(a * 10)"
   ]
  },
  {
   "cell_type": "code",
   "execution_count": 10,
   "metadata": {
    "collapsed": true
   },
   "outputs": [],
   "source": [
    "emb = nn.Embedding(10, 5)"
   ]
  },
  {
   "cell_type": "code",
   "execution_count": 11,
   "metadata": {
    "collapsed": true
   },
   "outputs": [],
   "source": [
    "x = Variable(torch.LongTensor([0, 1]))\n",
    "y = Variable(torch.LongTensor([2, 3, 4]))"
   ]
  },
  {
   "cell_type": "code",
   "execution_count": 104,
   "metadata": {
    "collapsed": true
   },
   "outputs": [],
   "source": [
    "a = emb(x)\n",
    "b = emb(y)"
   ]
  },
  {
   "cell_type": "code",
   "execution_count": null,
   "metadata": {},
   "outputs": [],
   "source": []
  },
  {
   "cell_type": "code",
   "execution_count": 105,
   "metadata": {
    "collapsed": true
   },
   "outputs": [],
   "source": [
    "def hyperbolic_distance(x, y):\n",
    "    denom1 = torch.pow(1 - torch.norm(x, p=2, dim=1), 2)\n",
    "    denom2 = torch.t(torch.pow(1 - torch.norm(y, p=2, dim=1), 2))\n",
    "    denom = denom1 @ denom2\n",
    "    return denom"
   ]
  },
  {
   "cell_type": "code",
   "execution_count": 106,
   "metadata": {},
   "outputs": [
    {
     "data": {
      "text/plain": [
       "Variable containing:\n",
       " 4.3194  3.3928  2.3003\n",
       " 5.6745  4.4572  3.0220\n",
       "[torch.FloatTensor of size 2x3]"
      ]
     },
     "execution_count": 106,
     "metadata": {},
     "output_type": "execute_result"
    }
   ],
   "source": [
    "hyperbolic_distance(a, b)"
   ]
  },
  {
   "cell_type": "code",
   "execution_count": 107,
   "metadata": {},
   "outputs": [
    {
     "ename": "SyntaxError",
     "evalue": "invalid syntax (<ipython-input-107-896da8a0e199>, line 1)",
     "output_type": "error",
     "traceback": [
      "\u001b[0;36m  File \u001b[0;32m\"<ipython-input-107-896da8a0e199>\"\u001b[0;36m, line \u001b[0;32m1\u001b[0m\n\u001b[0;31m    foo =\u001b[0m\n\u001b[0m          ^\u001b[0m\n\u001b[0;31mSyntaxError\u001b[0m\u001b[0;31m:\u001b[0m invalid syntax\n"
     ]
    }
   ],
   "source": [
    "foo = "
   ]
  },
  {
   "cell_type": "code",
   "execution_count": 108,
   "metadata": {},
   "outputs": [
    {
     "data": {
      "text/plain": [
       "Variable containing:\n",
       " 1.3766  2.2546 -0.2643 -0.2807  0.4454\n",
       " 1.5594  1.9273  1.5924  0.0370  0.2345\n",
       "[torch.FloatTensor of size 2x5]"
      ]
     },
     "execution_count": 108,
     "metadata": {},
     "output_type": "execute_result"
    }
   ],
   "source": [
    "a"
   ]
  },
  {
   "cell_type": "code",
   "execution_count": 109,
   "metadata": {},
   "outputs": [
    {
     "data": {
      "text/plain": [
       "Variable containing:\n",
       " 0.5661 -0.8578  1.8141  0.6668  0.3560\n",
       " 1.5227  0.8747 -0.7243 -0.2697 -0.8017\n",
       " 0.6474  1.6816  0.2709  0.3491  0.3540\n",
       "[torch.FloatTensor of size 3x5]"
      ]
     },
     "execution_count": 109,
     "metadata": {},
     "output_type": "execute_result"
    }
   ],
   "source": [
    "b"
   ]
  },
  {
   "cell_type": "code",
   "execution_count": 110,
   "metadata": {
    "collapsed": true
   },
   "outputs": [],
   "source": [
    "a_size = a.size()\n",
    "b_size = b.size()"
   ]
  },
  {
   "cell_type": "code",
   "execution_count": 111,
   "metadata": {},
   "outputs": [],
   "source": [
    "c = b.repeat(a_size[0],1,1)"
   ]
  },
  {
   "cell_type": "code",
   "execution_count": 112,
   "metadata": {},
   "outputs": [
    {
     "data": {
      "text/plain": [
       "Variable containing:\n",
       "(0 ,.,.) = \n",
       "  0.5661 -0.8578  1.8141  0.6668  0.3560\n",
       "  1.5227  0.8747 -0.7243 -0.2697 -0.8017\n",
       "  0.6474  1.6816  0.2709  0.3491  0.3540\n",
       "\n",
       "(1 ,.,.) = \n",
       "  0.5661 -0.8578  1.8141  0.6668  0.3560\n",
       "  1.5227  0.8747 -0.7243 -0.2697 -0.8017\n",
       "  0.6474  1.6816  0.2709  0.3491  0.3540\n",
       "[torch.FloatTensor of size 2x3x5]"
      ]
     },
     "execution_count": 112,
     "metadata": {},
     "output_type": "execute_result"
    }
   ],
   "source": [
    "c"
   ]
  },
  {
   "cell_type": "code",
   "execution_count": 113,
   "metadata": {},
   "outputs": [],
   "source": [
    "d = a.repeat(2, 1, 1)"
   ]
  },
  {
   "cell_type": "code",
   "execution_count": 114,
   "metadata": {},
   "outputs": [
    {
     "data": {
      "text/plain": [
       "Variable containing:\n",
       "(0 ,.,.) = \n",
       "  0.5661 -0.8578  1.8141  0.6668  0.3560\n",
       "  1.5227  0.8747 -0.7243 -0.2697 -0.8017\n",
       "  0.6474  1.6816  0.2709  0.3491  0.3540\n",
       "\n",
       "(1 ,.,.) = \n",
       "  0.5661 -0.8578  1.8141  0.6668  0.3560\n",
       "  1.5227  0.8747 -0.7243 -0.2697 -0.8017\n",
       "  0.6474  1.6816  0.2709  0.3491  0.3540\n",
       "[torch.FloatTensor of size 2x3x5]"
      ]
     },
     "execution_count": 114,
     "metadata": {},
     "output_type": "execute_result"
    }
   ],
   "source": [
    "c"
   ]
  },
  {
   "cell_type": "code",
   "execution_count": 115,
   "metadata": {},
   "outputs": [
    {
     "data": {
      "text/plain": [
       "Variable containing:\n",
       "(0 ,.,.) = \n",
       "  1.3766  2.2546 -0.2643 -0.2807  0.4454\n",
       "  1.5594  1.9273  1.5924  0.0370  0.2345\n",
       "\n",
       "(1 ,.,.) = \n",
       "  1.3766  2.2546 -0.2643 -0.2807  0.4454\n",
       "  1.5594  1.9273  1.5924  0.0370  0.2345\n",
       "[torch.FloatTensor of size 2x2x5]"
      ]
     },
     "execution_count": 115,
     "metadata": {},
     "output_type": "execute_result"
    }
   ],
   "source": [
    "d"
   ]
  },
  {
   "cell_type": "code",
   "execution_count": 116,
   "metadata": {},
   "outputs": [
    {
     "data": {
      "text/plain": [
       "Variable containing:\n",
       " 0.5661 -0.8578  1.8141  0.6668  0.3560\n",
       " 1.5227  0.8747 -0.7243 -0.2697 -0.8017\n",
       " 0.6474  1.6816  0.2709  0.3491  0.3540\n",
       "[torch.FloatTensor of size 3x5]"
      ]
     },
     "execution_count": 116,
     "metadata": {},
     "output_type": "execute_result"
    }
   ],
   "source": [
    "b.squeeze(0)"
   ]
  },
  {
   "cell_type": "code",
   "execution_count": 117,
   "metadata": {},
   "outputs": [],
   "source": [
    "d = a.view(2, 1, a_size[1])"
   ]
  },
  {
   "cell_type": "code",
   "execution_count": 118,
   "metadata": {},
   "outputs": [],
   "source": [
    "d = d.repeat(1, b_size[0], 1)"
   ]
  },
  {
   "cell_type": "code",
   "execution_count": 119,
   "metadata": {},
   "outputs": [
    {
     "data": {
      "text/plain": [
       "torch.Size([3, 5])"
      ]
     },
     "execution_count": 119,
     "metadata": {},
     "output_type": "execute_result"
    }
   ],
   "source": [
    "b_size"
   ]
  },
  {
   "cell_type": "code",
   "execution_count": 120,
   "metadata": {},
   "outputs": [],
   "source": [
    "e = d - c"
   ]
  },
  {
   "cell_type": "code",
   "execution_count": 62,
   "metadata": {},
   "outputs": [],
   "source": [
    "f = torch.norm(e, p=2, dim=2)"
   ]
  },
  {
   "cell_type": "code",
   "execution_count": 63,
   "metadata": {},
   "outputs": [
    {
     "data": {
      "text/plain": [
       "Variable containing:\n",
       " 3.9459  1.9216  1.2456\n",
       " 3.0338  2.7647  1.6584\n",
       "[torch.FloatTensor of size 2x3]"
      ]
     },
     "execution_count": 63,
     "metadata": {},
     "output_type": "execute_result"
    }
   ],
   "source": [
    "f.view(2, 3)"
   ]
  },
  {
   "cell_type": "code",
   "execution_count": 64,
   "metadata": {},
   "outputs": [
    {
     "data": {
      "text/plain": [
       "Variable containing:\n",
       "(0 ,.,.) = \n",
       "  1.3766  2.2546 -0.2643 -0.2807  0.4454\n",
       "  1.3766  2.2546 -0.2643 -0.2807  0.4454\n",
       "  1.3766  2.2546 -0.2643 -0.2807  0.4454\n",
       "\n",
       "(1 ,.,.) = \n",
       "  1.5594  1.9273  1.5924  0.0370  0.2345\n",
       "  1.5594  1.9273  1.5924  0.0370  0.2345\n",
       "  1.5594  1.9273  1.5924  0.0370  0.2345\n",
       "[torch.FloatTensor of size 2x3x5]"
      ]
     },
     "execution_count": 64,
     "metadata": {},
     "output_type": "execute_result"
    }
   ],
   "source": [
    "d"
   ]
  },
  {
   "cell_type": "code",
   "execution_count": 65,
   "metadata": {},
   "outputs": [
    {
     "data": {
      "text/plain": [
       "Variable containing:\n",
       "(0 ,.,.) = \n",
       "  0.5661 -0.8578  1.8141  0.6668  0.3560\n",
       "  1.5227  0.8747 -0.7243 -0.2697 -0.8017\n",
       "  0.6474  1.6816  0.2709  0.3491  0.3540\n",
       "\n",
       "(1 ,.,.) = \n",
       "  0.5661 -0.8578  1.8141  0.6668  0.3560\n",
       "  1.5227  0.8747 -0.7243 -0.2697 -0.8017\n",
       "  0.6474  1.6816  0.2709  0.3491  0.3540\n",
       "[torch.FloatTensor of size 2x3x5]"
      ]
     },
     "execution_count": 65,
     "metadata": {},
     "output_type": "execute_result"
    }
   ],
   "source": [
    "c"
   ]
  },
  {
   "cell_type": "code",
   "execution_count": 66,
   "metadata": {
    "collapsed": true
   },
   "outputs": [],
   "source": [
    "x1 = torch.Tensor([1.3766,  2.2546, -0.2643, -0.2807,  0.4454])"
   ]
  },
  {
   "cell_type": "code",
   "execution_count": 70,
   "metadata": {
    "collapsed": true
   },
   "outputs": [],
   "source": [
    "y1 = torch.Tensor([1.5227,  0.8747, -0.7243, -0.2697, -0.8017])"
   ]
  },
  {
   "cell_type": "code",
   "execution_count": 71,
   "metadata": {},
   "outputs": [
    {
     "data": {
      "text/plain": [
       "\n",
       " 1.9216\n",
       "[torch.FloatTensor of size 1]"
      ]
     },
     "execution_count": 71,
     "metadata": {},
     "output_type": "execute_result"
    }
   ],
   "source": [
    "torch.norm(x1 - y1, p=2, dim=0)"
   ]
  },
  {
   "cell_type": "code",
   "execution_count": 80,
   "metadata": {},
   "outputs": [],
   "source": [
    "x11 = torch.Tensor([[1.3766,  2.2546, -0.2643, -0.2807,  0.4454]])\n",
    "y11 = torch.Tensor([[1.5227,  0.8747, -0.7243, -0.2697, -0.8017]])"
   ]
  },
  {
   "cell_type": "code",
   "execution_count": 81,
   "metadata": {},
   "outputs": [
    {
     "data": {
      "text/plain": [
       "\n",
       " 3.3929\n",
       "[torch.FloatTensor of size 1x1]"
      ]
     },
     "execution_count": 81,
     "metadata": {},
     "output_type": "execute_result"
    }
   ],
   "source": [
    "hyperbolic_distance(x11, y11)"
   ]
  },
  {
   "cell_type": "code",
   "execution_count": 145,
   "metadata": {},
   "outputs": [],
   "source": [
    "def hyperbolic_distance1(x, y):\n",
    "    denom1 = torch.pow(1 - torch.norm(x, p=2, dim=1), 2)\n",
    "    denom2 = torch.t(torch.pow(1 - torch.norm(y, p=2, dim=1), 2))\n",
    "    denom = denom1 @ denom2\n",
    "    \n",
    "    x_size = x.size()\n",
    "    y_size = y.size()\n",
    "    \n",
    "    y1 = y.repeat(x_size[0], 1, 1)\n",
    "    x1 = x.view(x_size[0], 1, x_size[1])\n",
    "    x1 = x.repeat(1, y_size[0], 1)\n",
    "    z = (x1 - y1)\n",
    "    norms = torch.norm(z, p=2, dim=2)\n",
    "    norms = norms.view(x_size[0], y_size[0])\n",
    "    numer = torch.pow(norms, 2)\n",
    "    return numer / denom "
   ]
  },
  {
   "cell_type": "code",
   "execution_count": 146,
   "metadata": {},
   "outputs": [
    {
     "data": {
      "text/plain": [
       "Variable containing:\n",
       " 3.6046  2.2530  0.6745\n",
       " 1.6220  0.8284  0.9100\n",
       "[torch.FloatTensor of size 2x3]"
      ]
     },
     "execution_count": 146,
     "metadata": {},
     "output_type": "execute_result"
    }
   ],
   "source": [
    "hyperbolic_distance1(a, b)"
   ]
  },
  {
   "cell_type": "code",
   "execution_count": 147,
   "metadata": {},
   "outputs": [
    {
     "data": {
      "text/plain": [
       "Variable containing:\n",
       " 2.7947  2.3906  1.4984\n",
       " 2.1245  1.6328  1.6969\n",
       "[torch.FloatTensor of size 2x3]"
      ]
     },
     "execution_count": 147,
     "metadata": {},
     "output_type": "execute_result"
    }
   ],
   "source": [
    "util.hyperbolic_distance(a, b)"
   ]
  },
  {
   "cell_type": "code",
   "execution_count": 161,
   "metadata": {
    "collapsed": true
   },
   "outputs": [],
   "source": [
    "import model"
   ]
  },
  {
   "cell_type": "code",
   "execution_count": 162,
   "metadata": {
    "collapsed": true
   },
   "outputs": [],
   "source": [
    "m = model.Model(10, 5)"
   ]
  },
  {
   "cell_type": "code",
   "execution_count": 166,
   "metadata": {
    "collapsed": true
   },
   "outputs": [],
   "source": [
    "u = Variable(torch.LongTensor([0]))\n",
    "v = Variable(torch.LongTensor([1]))\n",
    "negatives = Variable(torch.LongTensor([2, 3, 4]))"
   ]
  },
  {
   "cell_type": "code",
   "execution_count": 168,
   "metadata": {},
   "outputs": [
    {
     "data": {
      "text/plain": [
       "Variable containing:\n",
       " 0.1708\n",
       "[torch.FloatTensor of size 1x1]"
      ]
     },
     "execution_count": 168,
     "metadata": {},
     "output_type": "execute_result"
    }
   ],
   "source": [
    "m(u, v, negatives)"
   ]
  },
  {
   "cell_type": "code",
   "execution_count": 165,
   "metadata": {},
   "outputs": [
    {
     "data": {
      "text/plain": [
       "Variable containing:\n",
       " 0.0017 -0.9220  0.7612 -0.4920 -0.4994\n",
       "[torch.FloatTensor of size 1x5]"
      ]
     },
     "execution_count": 165,
     "metadata": {},
     "output_type": "execute_result"
    }
   ],
   "source": [
    "m.embeddings(u)"
   ]
  },
  {
   "cell_type": "code",
   "execution_count": 153,
   "metadata": {},
   "outputs": [
    {
     "data": {
      "text/plain": [
       "Variable containing:\n",
       "-1.2884 -0.3223 -0.6684  2.1089 -0.9949\n",
       "[torch.FloatTensor of size 1x5]"
      ]
     },
     "execution_count": 153,
     "metadata": {},
     "output_type": "execute_result"
    }
   ],
   "source": [
    "m.embeddings(v)"
   ]
  },
  {
   "cell_type": "code",
   "execution_count": 154,
   "metadata": {},
   "outputs": [
    {
     "data": {
      "text/plain": [
       "Variable containing:\n",
       " 3.3046  2.1343  3.6811\n",
       "[torch.FloatTensor of size 1x3]"
      ]
     },
     "execution_count": 154,
     "metadata": {},
     "output_type": "execute_result"
    }
   ],
   "source": [
    "util.hyperbolic_distance(m.embeddings(u), m.embeddings(negatives))"
   ]
  },
  {
   "cell_type": "code",
   "execution_count": 155,
   "metadata": {},
   "outputs": [
    {
     "data": {
      "text/plain": [
       "Variable containing:\n",
       " 2.2115\n",
       "[torch.FloatTensor of size 1x1]"
      ]
     },
     "execution_count": 155,
     "metadata": {},
     "output_type": "execute_result"
    }
   ],
   "source": [
    "util.hyperbolic_distance(m.embeddings(u), m.embeddings(v))"
   ]
  },
  {
   "cell_type": "code",
   "execution_count": 171,
   "metadata": {},
   "outputs": [
    {
     "ename": "RuntimeError",
     "evalue": "torch.FloatTensor constructor doesn't accept any keyword arguments",
     "output_type": "error",
     "traceback": [
      "\u001b[0;31m---------------------------------------------------------------------------\u001b[0m",
      "\u001b[0;31mRuntimeError\u001b[0m                              Traceback (most recent call last)",
      "\u001b[0;32m<ipython-input-171-8e3ca023775c>\u001b[0m in \u001b[0;36m<module>\u001b[0;34m()\u001b[0m\n\u001b[0;32m----> 1\u001b[0;31m \u001b[0mx\u001b[0m \u001b[0;34m=\u001b[0m \u001b[0mtorch\u001b[0m\u001b[0;34m.\u001b[0m\u001b[0mTensor\u001b[0m\u001b[0;34m(\u001b[0m\u001b[0;34m[\u001b[0m\u001b[0;36m0.6312\u001b[0m\u001b[0;34m,\u001b[0m  \u001b[0;36m0.4068\u001b[0m\u001b[0;34m,\u001b[0m  \u001b[0;36m0.0213\u001b[0m\u001b[0;34m,\u001b[0m \u001b[0;34m-\u001b[0m\u001b[0;36m0.5873\u001b[0m\u001b[0;34m,\u001b[0m  \u001b[0;36m0.3011\u001b[0m\u001b[0;34m]\u001b[0m\u001b[0;34m,\u001b[0m \u001b[0mp\u001b[0m\u001b[0;34m=\u001b[0m\u001b[0;36m2\u001b[0m\u001b[0;34m)\u001b[0m\u001b[0;34m\u001b[0m\u001b[0m\n\u001b[0m",
      "\u001b[0;31mRuntimeError\u001b[0m: torch.FloatTensor constructor doesn't accept any keyword arguments"
     ]
    }
   ],
   "source": [
    "x = torch.Tensor([0.6312,  0.4068,  0.0213, -0.5873,  0.3011])"
   ]
  },
  {
   "cell_type": "code",
   "execution_count": 175,
   "metadata": {},
   "outputs": [
    {
     "data": {
      "text/plain": [
       "0.9999679422857669"
      ]
     },
     "execution_count": 175,
     "metadata": {},
     "output_type": "execute_result"
    }
   ],
   "source": [
    "torch.norm(x, p=2)"
   ]
  },
  {
   "cell_type": "code",
   "execution_count": null,
   "metadata": {
    "collapsed": true
   },
   "outputs": [],
   "source": []
  }
 ],
 "metadata": {
  "anaconda-cloud": {},
  "kernelspec": {
   "display_name": "Python [conda root]",
   "language": "python",
   "name": "conda-root-py"
  },
  "language_info": {
   "codemirror_mode": {
    "name": "ipython",
    "version": 3
   },
   "file_extension": ".py",
   "mimetype": "text/x-python",
   "name": "python",
   "nbconvert_exporter": "python",
   "pygments_lexer": "ipython3",
   "version": "3.5.2"
  }
 },
 "nbformat": 4,
 "nbformat_minor": 1
}
